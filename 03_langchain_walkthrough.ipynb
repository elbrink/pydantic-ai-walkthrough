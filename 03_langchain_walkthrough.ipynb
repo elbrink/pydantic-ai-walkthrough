{
 "cells": [
  {
   "cell_type": "markdown",
   "metadata": {},
   "source": [
    "# Langchain Walkthrough\n",
    "\n",
    "Inspired by: https://langchain-ai.github.io/langgraph/agents/agents/"
   ]
  },
  {
   "cell_type": "markdown",
   "metadata": {},
   "source": [
    "Setup the environment"
   ]
  },
  {
   "cell_type": "code",
   "execution_count": 1,
   "metadata": {},
   "outputs": [
    {
     "data": {
      "text/plain": [
       "<function logfire._internal.instrument.instrument.<locals>.decorator(func: 'Callable[P, R]') -> 'Callable[P, R]'>"
      ]
     },
     "execution_count": 1,
     "metadata": {},
     "output_type": "execute_result"
    }
   ],
   "source": [
    "import dotenv\n",
    "import os\n",
    "import logfire\n",
    "import json\n",
    "\n",
    "import tool_functions as tf\n",
    "\n",
    "import nest_asyncio\n",
    "\n",
    "nest_asyncio.apply()\n",
    "\n",
    "dotenv.load_dotenv()\n",
    "\n",
    "api_key = os.getenv(\"ANTHROPIC_API_KEY\")\n",
    "model = os.getenv(\"DEFAULT_MODEL\")\n",
    "logfire_token = os.getenv(\"LOGFIRE_TOKEN\")\n",
    "\n",
    "\n",
    "# configure logfire\n",
    "logfire.configure(token=logfire_token)\n",
    "\n",
    "# 2. Instrumenteer LangChain (automatisch loggen van chains, LLM calls, tools, etc.)\n",
    "logfire.instrument()"
   ]
  },
  {
   "cell_type": "markdown",
   "metadata": {},
   "source": [
    "1 Definieer een basis agent"
   ]
  },
  {
   "cell_type": "code",
   "execution_count": 2,
   "metadata": {},
   "outputs": [
    {
     "data": {
      "text/html": [
       "<pre style=\"white-space:pre;overflow-x:auto;line-height:normal;font-family:Menlo,'DejaVu Sans Mono',consolas,'Courier New',monospace\"><span style=\"font-weight: bold\">Logfire</span> project URL: <a href=\"https://logfire-eu.pydantic.dev/elbrink/claude-test\" target=\"_blank\"><span style=\"color: #008080; text-decoration-color: #008080; text-decoration: underline\">https://logfire-eu.pydantic.dev/elbrink/claude-test</span></a>\n",
       "</pre>\n"
      ],
      "text/plain": [
       "\u001b[1mLogfire\u001b[0m project URL: \u001b]8;id=443770;https://logfire-eu.pydantic.dev/elbrink/claude-test\u001b\\\u001b[4;36mhttps://logfire-eu.pydantic.dev/elbrink/claude-test\u001b[0m\u001b]8;;\u001b\\\n"
      ]
     },
     "metadata": {},
     "output_type": "display_data"
    }
   ],
   "source": [
    "from langgraph.prebuilt import create_react_agent\n",
    "\n",
    "dotenv.load_dotenv()\n",
    "\n",
    "api_key = os.getenv(\"ANTHROPIC_API_KEY\")\n",
    "model = os.getenv(\"DEFAULT_MODEL\")\n",
    "\n",
    "basic_agent = create_react_agent(\n",
    "    model=model,\n",
    "    tools=[],\n",
    "    prompt=(\"je bent een agent die op alle vragen een verstandig antwoord geeft\"),\n",
    ")"
   ]
  },
  {
   "cell_type": "markdown",
   "metadata": {},
   "source": [
    "Stel een vraag aan de agent"
   ]
  },
  {
   "cell_type": "code",
   "execution_count": 12,
   "metadata": {},
   "outputs": [
    {
     "name": "stdout",
     "output_type": "stream",
     "text": [
      "12:49:44.235 LangGraph\n",
      "12:49:44.247   agent\n",
      "12:49:44.248     call_model\n",
      "12:49:44.251       RunnableSequence\n",
      "12:49:44.252         Prompt\n",
      "12:49:44.252         ChatAnthropic\n",
      "Een agent is een entiteit (mens, systeem of programma) die:\n",
      "\n",
      "1. Waarnemingen verzamelt uit zijn omgeving via sensoren\n",
      "\n",
      "2. Doelen of taken heeft die hij probeert te bereiken\n",
      "\n",
      "3. Beslissingen kan nemen en acties kan uitvoeren om die doelen te bereiken\n",
      "\n",
      "4. Beschikt over een vorm van intelligentie of logica om keuzes te maken\n",
      "\n",
      "5. Kan leren en zich kan aanpassen op basis van eerdere ervaringen\n",
      "\n",
      "In de kunstmatige intelligentie wordt een agent gezien als een computerprogramma dat:\n",
      "- Zelfstandig kan waarnemen\n",
      "- Kan redeneren\n",
      "- Kan handelen\n",
      "- Autonoom beslissingen kan nemen\n",
      "\n",
      "Voorbeelden zijn:\n",
      "- Software agents (chatbots, recommender systemen)\n",
      "- Fysieke robots\n",
      "- Virtuele assistenten\n",
      "- Computerspel AI\n",
      "- Geautomatiseerde handelssystemen\n",
      "\n",
      "De kern is dat een agent gericht is op het bereiken van specifieke doelen in een bepaalde omgeving.\n"
     ]
    }
   ],
   "source": [
    "# Run the agent\n",
    "result = basic_agent.invoke(\n",
    "    {\"messages\": [{\"role\": \"user\", \"content\": \"geef een defintie van een agent\"}]}\n",
    ")\n",
    "\n",
    "print(result[\"messages\"][-1].content)"
   ]
  },
  {
   "cell_type": "markdown",
   "metadata": {},
   "source": [
    "Definieer tools voor de agent"
   ]
  },
  {
   "cell_type": "code",
   "execution_count": 13,
   "metadata": {},
   "outputs": [],
   "source": [
    "tool_agent = create_react_agent(\n",
    "    model=model,\n",
    "    tools=[tf.calculate_btw, tf.calculate_discount, tf.get_inwoners_gemeente],\n",
    "    prompt=(\"je bent een agent die op alle vragen een verstandig antwoord geeft\"),\n",
    ")\n",
    "\n",
    "config = {\"configurable\": {\"thread_id\": \"1\"}}"
   ]
  },
  {
   "cell_type": "markdown",
   "metadata": {},
   "source": [
    "Test een aantal tool calls"
   ]
  },
  {
   "cell_type": "code",
   "execution_count": 5,
   "metadata": {},
   "outputs": [
    {
     "name": "stdout",
     "output_type": "stream",
     "text": [
      "12:49:50.853 LangGraph\n",
      "12:49:50.854   agent\n",
      "12:49:50.854     call_model\n",
      "12:49:50.855       RunnableSequence\n",
      "12:49:50.855         Prompt\n",
      "12:49:50.855         ChatAnthropic\n"
     ]
    },
    {
     "name": "stderr",
     "output_type": "stream",
     "text": [
      "Attribute 'langsmith.metadata.langgraph_path' mixes types str and int in attribute value sequence\n",
      "Attribute 'langsmith.metadata.langgraph_path' mixes types str and int in attribute value sequence\n"
     ]
    },
    {
     "name": "stdout",
     "output_type": "stream",
     "text": [
      "12:49:54.213     should_continue\n",
      "12:49:54.214   tools\n",
      "12:49:54.214 calculate_btw\n",
      "             LangGraph\n",
      "12:49:54.215   agent\n",
      "12:49:54.215     call_model\n",
      "12:49:54.215       RunnableSequence\n",
      "12:49:54.215         Prompt\n",
      "12:49:54.215         ChatAnthropic\n"
     ]
    },
    {
     "name": "stderr",
     "output_type": "stream",
     "text": [
      "Attribute 'langsmith.metadata.langgraph_path' mixes types str and int in attribute value sequence\n",
      "Attribute 'langsmith.metadata.langgraph_path' mixes types str and int in attribute value sequence\n"
     ]
    },
    {
     "name": "stdout",
     "output_type": "stream",
     "text": [
      "12:49:56.095     should_continue\n",
      "12:49:56.096   tools\n",
      "12:49:56.096 calculate_discount\n",
      "             LangGraph\n",
      "12:49:56.097   agent\n",
      "12:49:56.097     call_model\n",
      "12:49:56.097       RunnableSequence\n",
      "12:49:56.097         Prompt\n",
      "12:49:56.097         ChatAnthropic\n",
      "12:50:00.299     should_continue\n",
      "12:50:00.308 LangGraph\n",
      "12:50:00.308   agent\n",
      "12:50:00.308     call_model\n",
      "12:50:00.308       RunnableSequence\n",
      "12:50:00.308         Prompt\n",
      "12:50:00.309         ChatAnthropic\n"
     ]
    },
    {
     "name": "stdout",
     "output_type": "stream",
     "text": [
      "Laat me je nu een duidelijk overzicht geven:\n",
      "\n",
      "Oorspronkelijk bedrag (exclusief BTW): €100,00\n",
      "BTW (21%): €21,00\n",
      "Bedrag inclusief BTW: €121,00\n",
      "\n",
      "Korting (15% over inclusief BTW): €18,15\n",
      "Eindprijs na korting: €102,85\n",
      "\n",
      "Samenvatting:\n",
      "- Je koopt een product voor €100,00 exclusief BTW\n",
      "- De BTW bedraagt €21,00\n",
      "- Het bedrag inclusief BTW is €121,00\n",
      "- Je krijgt 15% korting, wat neerkomt op €18,15\n",
      "- Je uiteindelijke eindprijs is €102,85\n",
      "\n",
      "Is er nog iets anders wat ik voor je kan verduidelijken?\n"
     ]
    }
   ],
   "source": [
    "result2 = tool_agent.invoke(\n",
    "    {\n",
    "        \"messages\": {\n",
    "            \"role\": \"user\",\n",
    "            \"content\": \"ik koop een product X voor 100 euro exclusief BTW, bereken de BTW. Ik krijg van de leverancier ook nog 15% korting op het bedrag inclusief BTW. Geef een overzicht wat ik moet betalen en hoe dat is samengesteld\",\n",
    "        }\n",
    "    },\n",
    "    config=config,\n",
    ")\n",
    "print(result2[\"messages\"][-1].content)"
   ]
  },
  {
   "cell_type": "code",
   "execution_count": 6,
   "metadata": {},
   "outputs": [
    {
     "name": "stderr",
     "output_type": "stream",
     "text": [
      "Attribute 'langsmith.metadata.langgraph_path' mixes types str and int in attribute value sequence\n",
      "Attribute 'langsmith.metadata.langgraph_path' mixes types str and int in attribute value sequence\n",
      "Attribute 'langsmith.metadata.langgraph_path' mixes types str and int in attribute value sequence\n",
      "Attribute 'langsmith.metadata.langgraph_path' mixes types str and int in attribute value sequence\n"
     ]
    },
    {
     "name": "stdout",
     "output_type": "stream",
     "text": [
      "12:50:03.459     should_continue\n",
      "12:50:03.461   tools\n",
      "12:50:03.463     get_inwoners_gemeente\n",
      "12:50:03.464   tools\n",
      "12:50:03.466     get_inwoners_gemeente\n"
     ]
    },
    {
     "name": "stderr",
     "output_type": "stream",
     "text": [
      "Attribute 'langsmith.metadata.langgraph_path' mixes types str and int in attribute value sequence\n",
      "Attribute 'langsmith.metadata.langgraph_path' mixes types str and int in attribute value sequence\n",
      "Attribute 'langsmith.metadata.langgraph_path' mixes types str and int in attribute value sequence\n",
      "Attribute 'langsmith.metadata.langgraph_path' mixes types str and int in attribute value sequence\n"
     ]
    },
    {
     "name": "stdout",
     "output_type": "stream",
     "text": [
      "12:50:04.663   agent\n",
      "12:50:04.663     call_model\n",
      "12:50:04.663       RunnableSequence\n",
      "12:50:04.663         Prompt\n",
      "12:50:04.664         ChatAnthropic\n",
      "12:50:10.538     should_continue\n",
      "12:50:10.544 LangGraph\n",
      "12:50:10.544   agent\n",
      "12:50:10.544     call_model\n",
      "12:50:10.545       RunnableSequence\n",
      "12:50:10.545         Prompt\n",
      "12:50:10.545         ChatAnthropic\n"
     ]
    },
    {
     "name": "stdout",
     "output_type": "stream",
     "text": [
      "Op basis van de gegevens voor het jaar 2024 kan ik u het volgende overzicht geven:\n",
      "\n",
      "Top 7 gemeenten in Nederland naar aantal inwoners:\n",
      "1. Amsterdam: 931.298 inwoners\n",
      "2. Rotterdam: 670.610 inwoners\n",
      "3. 's-Gravenhage (Den Haag): 566.221 inwoners\n",
      "4. Utrecht: 374.238 inwoners\n",
      "5. Eindhoven: 246.417 inwoners\n",
      "6. Groningen: 243.768 inwoners\n",
      "7. Tilburg: 229.836 inwoners\n",
      "\n",
      "Extra informatie over Groningen:\n",
      "- Aantal inwoners in 2024: 243.768\n",
      "- Gemeente Groningen staat op de 6e plaats in de ranglijst van grootste gemeenten in Nederland\n",
      "\n",
      "Enkele interessante observaties:\n",
      "- Amsterdam heeft bijna 1 miljoen inwoners en is daarmee veruit de grootste gemeente\n",
      "- De top 3 gemeenten (Amsterdam, Rotterdam, Den Haag) zijn duidelijk groter dan de rest\n",
      "- De stad Groningen is een middelgrote gemeente met een substantieel aantal inwoners\n"
     ]
    }
   ],
   "source": [
    "result = tool_agent.invoke(\n",
    "    {\n",
    "        \"messages\": [\n",
    "            {\n",
    "                \"role\": \"user\",\n",
    "                \"content\": \"Geef een overzicht van de top-7 gemeenten in Nederland met het grootste aantal inwoners in 2024. Laat ook het aantal inwoners van Groningen zien.\",\n",
    "            }\n",
    "        ]\n",
    "    }\n",
    ")\n",
    "\n",
    "print(result[\"messages\"][-1].content)"
   ]
  },
  {
   "cell_type": "code",
   "execution_count": 7,
   "metadata": {},
   "outputs": [
    {
     "name": "stderr",
     "output_type": "stream",
     "text": [
      "Attribute 'langsmith.metadata.langgraph_path' mixes types str and int in attribute value sequence\n",
      "Attribute 'langsmith.metadata.langgraph_path' mixes types str and int in attribute value sequence\n"
     ]
    },
    {
     "name": "stdout",
     "output_type": "stream",
     "text": [
      "12:50:14.120     should_continue\n",
      "12:50:14.121   tools\n",
      "12:50:14.121     get_inwoners_gemeente\n"
     ]
    },
    {
     "name": "stderr",
     "output_type": "stream",
     "text": [
      "Attribute 'langsmith.metadata.langgraph_path' mixes types str and int in attribute value sequence\n",
      "Attribute 'langsmith.metadata.langgraph_path' mixes types str and int in attribute value sequence\n"
     ]
    },
    {
     "name": "stdout",
     "output_type": "stream",
     "text": [
      "12:50:15.167   agent\n",
      "12:50:15.167     call_model\n",
      "12:50:15.168       RunnableSequence\n",
      "12:50:15.168         Prompt\n",
      "12:50:15.168         ChatAnthropic\n",
      "12:50:19.403     should_continue\n",
      "12:50:19.421 LangGraph\n",
      "12:50:19.422   agent\n",
      "12:50:19.423     call_model\n",
      "12:50:19.423       RunnableSequence\n",
      "12:50:19.423         Prompt\n",
      "12:50:19.424         ChatAnthropic\n"
     ]
    },
    {
     "name": "stdout",
     "output_type": "stream",
     "text": [
      "Nu kan ik het totale bedrag berekenen:\n",
      "249.054 inwoners × 15 euro = 3.735.810 euro\n",
      "\n",
      "Als alle inwoners van Eindhoven in 2025 15 euro zouden betalen, zou je een totaalbedrag van 3.735.810 euro krijgen. \n",
      "\n",
      "Enkele kanttekeningen:\n",
      "1. Dit is een theoretische berekening\n",
      "2. Het werkelijke aantal inwoners kan enigszins fluctueren\n",
      "3. In de praktijk is het niet realistisch dat álle inwoners zouden betalen\n",
      "\n",
      "Is er een specifieke reden waarom je dit wilt weten?\n"
     ]
    }
   ],
   "source": [
    "result = tool_agent.invoke(\n",
    "    {\n",
    "        \"messages\": [\n",
    "            {\n",
    "                \"role\": \"user\",\n",
    "                \"content\": \"Als alle inwoners uit Eindhoven in 2025 15 euro betalen, hoeveel krijg ik dan.\",\n",
    "            }\n",
    "        ]\n",
    "    }\n",
    ")\n",
    "print(result[\"messages\"][-1].content)"
   ]
  },
  {
   "cell_type": "markdown",
   "metadata": {},
   "source": [
    "Voeg geheugen toe aan de agent"
   ]
  },
  {
   "cell_type": "code",
   "execution_count": 8,
   "metadata": {},
   "outputs": [
    {
     "name": "stderr",
     "output_type": "stream",
     "text": [
      "Attribute 'langsmith.metadata.langgraph_path' mixes types str and int in attribute value sequence\n",
      "Attribute 'langsmith.metadata.langgraph_path' mixes types str and int in attribute value sequence\n"
     ]
    },
    {
     "name": "stdout",
     "output_type": "stream",
     "text": [
      "12:50:23.227     should_continue\n",
      "12:50:23.228   tools\n",
      "12:50:23.228 calculate_btw\n",
      "             LangGraph\n",
      "12:50:23.229   agent\n",
      "12:50:23.229     call_model\n",
      "12:50:23.229       RunnableSequence\n",
      "12:50:23.229         Prompt\n",
      "12:50:23.229         ChatAnthropic\n"
     ]
    },
    {
     "name": "stderr",
     "output_type": "stream",
     "text": [
      "Attribute 'langsmith.metadata.langgraph_path' mixes types str and int in attribute value sequence\n",
      "Attribute 'langsmith.metadata.langgraph_path' mixes types str and int in attribute value sequence\n"
     ]
    },
    {
     "name": "stdout",
     "output_type": "stream",
     "text": [
      "12:50:26.044     should_continue\n",
      "12:50:26.045   tools\n",
      "12:50:26.045 calculate_discount\n",
      "             LangGraph\n",
      "12:50:26.046   agent\n",
      "12:50:26.046     call_model\n",
      "12:50:26.046       RunnableSequence\n",
      "12:50:26.047         Prompt\n",
      "12:50:26.047         ChatAnthropic\n",
      "12:50:30.201     should_continue\n",
      "12:50:30.213 LangGraph\n",
      "12:50:30.216   agent\n",
      "12:50:30.217     call_model\n",
      "12:50:30.217       RunnableSequence\n",
      "12:50:30.217         Prompt\n",
      "12:50:30.218         ChatAnthropic\n",
      "12:50:34.707     should_continue\n"
     ]
    },
    {
     "name": "stdout",
     "output_type": "stream",
     "text": [
      "Laat me dit voor je samenvatten:\n",
      "\n",
      "Oorspronkelijke prijs (exclusief BTW): € 100,00\n",
      "BTW (21%): € 21,00\n",
      "Prijs inclusief BTW: € 121,00\n",
      "\n",
      "Korting (15% over inclusief BTW): € 18,15\n",
      "Eindprijs na korting: € 102,85\n",
      "\n",
      "Dus je betaalt uiteindelijk € 102,85 voor product X, wat neerkomt op een effectieve korting van ongeveer 15% op de totaalprijs.\n"
     ]
    }
   ],
   "source": [
    "from langgraph.checkpoint.memory import InMemorySaver\n",
    "from langgraph.prebuilt import create_react_agent\n",
    "\n",
    "checkpoint = InMemorySaver()\n",
    "\n",
    "mem_agent = create_react_agent(\n",
    "    model=model,\n",
    "    tools=[tf.calculate_btw, tf.calculate_discount, tf.get_inwoners_gemeente],\n",
    "    prompt=(\"je bent een agent die op alle vragen een verstandig antwoord geeft\"),\n",
    "    checkpointer=checkpoint,\n",
    ")\n",
    "\n",
    "config = {\"configurable\": {\"thread_id\": \"1\"}}\n",
    "\n",
    "result = mem_agent.invoke(\n",
    "    {\n",
    "        \"messages\": {\n",
    "            \"role\": \"user\",\n",
    "            \"content\": \"ik koop een product X voor 100 euro exclusief BTW, bereken de BTW. Ik krijg van de leverancier ook nog 15% korting op het bedrag inclusief BTW. Geef een overzicht wat ik moet betalen en hoe dat is samengesteld\",\n",
    "        }\n",
    "    },\n",
    "    config=config,\n",
    ")\n",
    "print(result[\"messages\"][-1].content)"
   ]
  },
  {
   "cell_type": "code",
   "execution_count": 9,
   "metadata": {},
   "outputs": [
    {
     "name": "stdout",
     "output_type": "stream",
     "text": [
      "Laat ik de gegevens voor je opzoeken uit de vorige berekening:\n",
      "\n",
      "BTW bedrag voor product X: € 21,00\n",
      "Korting bedrag: € 18,15\n",
      "\n",
      "Deze bedragen heb ik zojuist voor je berekend in de vorige interactie, toen we de BTW en korting hebben uitgerekend voor het product dat oorspronkelijk 100 euro exclusief BTW kostte.\n"
     ]
    }
   ],
   "source": [
    "result = mem_agent.invoke(\n",
    "    {\n",
    "        \"messages\": [\n",
    "            {\n",
    "                \"role\": \"user\",\n",
    "                \"content\": \"wat was ook alweer het btw bedrag van het eerder gekochte product X en hoeveel korting kreeg ik. Zoek dit uit de conversatie hiervoor.\",\n",
    "            }\n",
    "        ]\n",
    "    },\n",
    "    config=config,\n",
    ")\n",
    "print(result[\"messages\"][-1].content)"
   ]
  }
 ],
 "metadata": {
  "kernelspec": {
   "display_name": ".venv",
   "language": "python",
   "name": "python3"
  },
  "language_info": {
   "codemirror_mode": {
    "name": "ipython",
    "version": 3
   },
   "file_extension": ".py",
   "mimetype": "text/x-python",
   "name": "python",
   "nbconvert_exporter": "python",
   "pygments_lexer": "ipython3",
   "version": "3.11.12"
  }
 },
 "nbformat": 4,
 "nbformat_minor": 2
}
