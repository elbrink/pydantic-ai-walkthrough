{
 "cells": [
  {
   "cell_type": "markdown",
   "metadata": {},
   "source": [
    "# Pydantic AI Walkthrough\n",
    "\n",
    "Inspired bij: https://ai.pydantic.dev/agents/"
   ]
  },
  {
   "cell_type": "markdown",
   "metadata": {},
   "source": [
    "Setup the environment"
   ]
  },
  {
   "cell_type": "code",
   "execution_count": 1,
   "metadata": {},
   "outputs": [
    {
     "name": "stderr",
     "output_type": "stream",
     "text": [
      "\u001b[1mLogfire\u001b[0m project URL: \u001b]8;id=167810;https://logfire-eu.pydantic.dev/elbrink/claude-test\u001b\\\u001b[4;36mhttps://logfire-eu.pydantic.dev/elbrink/claude-test\u001b[0m\u001b]8;;\u001b\\\n"
     ]
    }
   ],
   "source": [
    "import dotenv\n",
    "import os\n",
    "import logfire\n",
    "\n",
    "import tool_functions as tf\n",
    "\n",
    "import nest_asyncio\n",
    "\n",
    "nest_asyncio.apply()\n",
    "\n",
    "dotenv.load_dotenv()\n",
    "\n",
    "api_key = os.getenv(\"ANTHROPIC_API_KEY\")\n",
    "model = os.getenv(\"DEFAULT_MODEL\")\n",
    "logfire_token = os.getenv(\"LOGFIRE_TOKEN\")\n",
    "\n",
    "# configure logfire\n",
    "logfire.configure(token=logfire_token)\n",
    "logfire.instrument_pydantic_ai()"
   ]
  },
  {
   "cell_type": "markdown",
   "metadata": {},
   "source": [
    "1 Definieer een basis agent"
   ]
  },
  {
   "cell_type": "code",
   "execution_count": 2,
   "metadata": {},
   "outputs": [],
   "source": [
    "from pydantic_ai import Agent\n",
    "from pydantic_ai.models.anthropic import AnthropicModel\n",
    "\n",
    "dotenv.load_dotenv()\n",
    "\n",
    "api_key = os.getenv(\"ANTHROPIC_API_KEY\")\n",
    "model = AnthropicModel(os.getenv(\"DEFAULT_MODEL\"))\n",
    "\n",
    "basic_agent = Agent(\n",
    "    model=model,\n",
    "    output_type=str,\n",
    "    system_prompt=(\n",
    "        \"je bent een agent die op alle vragen een verstandig antwoord geeft\"\n",
    "    ),\n",
    ")"
   ]
  },
  {
   "cell_type": "markdown",
   "metadata": {},
   "source": [
    "Stel een vraag aan de agent"
   ]
  },
  {
   "cell_type": "code",
   "execution_count": 3,
   "metadata": {},
   "outputs": [
    {
     "name": "stdout",
     "output_type": "stream",
     "text": [
      "12:32:51.671 basic_agent run\n",
      "12:32:51.671   chat claude-3-5-haiku-20241022\n",
      "Hier is een definitie van een agent:\n",
      "\n",
      "Een agent is een systeem dat zich in een omgeving bevindt en dat autonoom kan waarnemen, redeneren en handelen om bepaalde doelen te bereiken of taken uit te voeren. Belangrijke kenmerken van een agent zijn:\n",
      "\n",
      "1. Autonomie: Het kan zelfstandig beslissingen nemen\n",
      "2. Waarneming: Het kan informatie verzamelen uit zijn omgeving\n",
      "3. Redenatie: Het kan logisch redeneren en keuzes maken\n",
      "4. Actie: Het kan concrete handelingen uitvoeren om doelen te bereiken\n",
      "\n",
      "Agents kunnen verschillende vormen aannemen:\n",
      "- Softwareagenten (zoals AI-systemen)\n",
      "- Fysieke agenten (zoals robots)\n",
      "- Virtuele agenten (zoals chatbots)\n",
      "\n",
      "In de artificiële intelligentie wordt een agent gezien als een systeem dat:\n",
      "- Zinvolle beslissingen kan nemen\n",
      "- Kan leren van eerdere ervaringen\n",
      "- Doelgericht werkt\n",
      "- Kan communiceren met andere systemen of mensen\n",
      "\n",
      "Kortom, een agent is een intelligent systeem dat zelfstandig kan waarnemen, redeneren en handelen.\n"
     ]
    }
   ],
   "source": [
    "result = basic_agent.run_sync(\"geef een defintie van een agent\")\n",
    "print(result.output)"
   ]
  },
  {
   "cell_type": "markdown",
   "metadata": {},
   "source": [
    "Definieer tools voor de agent"
   ]
  },
  {
   "cell_type": "code",
   "execution_count": 4,
   "metadata": {},
   "outputs": [],
   "source": [
    "tool_agent = Agent(\n",
    "    model=model,\n",
    "    output_type=str,\n",
    "    system_prompt=(\n",
    "        \"je bent een agent die op alle vragen een verstandig antwoord geeft\"\n",
    "    ),\n",
    ")\n",
    "\n",
    "\n",
    "@tool_agent.tool_plain\n",
    "def tool_bereken_btw(bedrag: float, btw_percentage: float):\n",
    "    \"\"\"\n",
    "    Bereken BTW over een bedrag.\n",
    "    \"\"\"\n",
    "    return tf.calculate_btw(bedrag, btw_percentage)\n",
    "\n",
    "\n",
    "@tool_agent.tool_plain\n",
    "def tool_bereken_korting(bedrag: float, korting_percentage: float):\n",
    "    \"\"\"\n",
    "    Bereken korting over een bedrag.\n",
    "    \"\"\"\n",
    "    return tf.calculate_discount(bedrag, korting_percentage)\n",
    "\n",
    "\n",
    "@tool_agent.tool_plain\n",
    "def tool_get_inwoners_gemeente(gemeente_naam: str, jaar: str):\n",
    "    \"\"\"\n",
    "    Haal inwonersaantallen op van Nederlandse gemeenten via CBS API.\n",
    "    \"\"\"\n",
    "    return tf.get_inwoners_gemeente(gemeente_naam, jaar)"
   ]
  },
  {
   "cell_type": "markdown",
   "metadata": {},
   "source": [
    "Test een aantal tool calls"
   ]
  },
  {
   "cell_type": "code",
   "execution_count": 5,
   "metadata": {},
   "outputs": [
    {
     "name": "stdout",
     "output_type": "stream",
     "text": [
      "12:34:11.304 tool_agent run\n",
      "12:34:11.304   chat claude-3-5-haiku-20241022\n",
      "12:34:14.354   running 1 tool\n",
      "12:34:14.355     running tool: tool_bereken_btw\n",
      "12:34:14.356   chat claude-3-5-haiku-20241022\n",
      "12:34:16.948   running 1 tool\n",
      "12:34:16.948     running tool: tool_bereken_korting\n",
      "12:34:16.950   chat claude-3-5-haiku-20241022\n",
      "Hier is een duidelijk overzicht:\n",
      "1. Oorspronkelijke prijs exclusief BTW: €100,00\n",
      "2. BTW (21%): €21,00\n",
      "3. Prijs inclusief BTW: €121,00\n",
      "4. Korting (15%): €18,15\n",
      "5. Uiteindelijk te betalen bedrag: €102,85\n",
      "\n",
      "Je koopt het product voor €100,00 exclusief BTW. Na toevoeging van 21% BTW wordt dat €121,00. Vervolgens krijg je 15% korting over dit bedrag, wat neerkomt op €18,15 korting. Je eindprijs wordt dus €102,85.\n"
     ]
    }
   ],
   "source": [
    "result2 = tool_agent.run_sync(\n",
    "    \"ik koop een product X voor 100 euro exclusief BTW, bereken de BTW. Ik krijg van de leverancier ook nog 15% korting op het bedrag inclusief BTW. Geef een overzicht wat ik moet betalen en hoe dat is samengesteld\"\n",
    ")\n",
    "print(result2.output)"
   ]
  },
  {
   "cell_type": "code",
   "execution_count": 6,
   "metadata": {},
   "outputs": [
    {
     "name": "stdout",
     "output_type": "stream",
     "text": [
      "12:35:08.835 tool_agent run\n",
      "12:35:08.836   chat claude-3-5-haiku-20241022\n",
      "12:35:16.122   running 7 tools\n",
      "12:35:16.122     running tool: tool_get_inwoners_gemeente\n",
      "12:35:16.122     running tool: tool_get_inwoners_gemeente\n",
      "12:35:16.123     running tool: tool_get_inwoners_gemeente\n",
      "12:35:16.123     running tool: tool_get_inwoners_gemeente\n",
      "12:35:16.123     running tool: tool_get_inwoners_gemeente\n",
      "12:35:16.123     running tool: tool_get_inwoners_gemeente\n",
      "12:35:16.123     running tool: tool_get_inwoners_gemeente\n",
      "12:35:17.692   chat claude-3-5-haiku-20241022\n",
      "Op basis van de verkregen gegevens kan ik de top-7 gemeenten in Nederland met het grootste aantal inwoners in 2024 als volgt presenteren:\n",
      "\n",
      "1. Amsterdam: 931.298 inwoners\n",
      "2. Rotterdam: 670.610 inwoners\n",
      "3. Utrecht: 374.238 inwoners\n",
      "4. Eindhoven: 246.417 inwoners\n",
      "5. Groningen: 243.768 inwoners\n",
      "6. Tilburg: 229.836 inwoners\n",
      "\n",
      "Ik kon helaas geen gegevens vinden voor Den Haag, dus de top-7 is niet volledig. De gemeente Groningen heeft 243.768 inwoners in 2024.\n",
      "\n",
      "Opmerking: Bij Utrecht en Groningen waren er meerdere resultaten, dus ik heb de inwoneraantallen van de hoofdgemeente gebruikt.\n",
      "\n",
      "Wilt u dat ik nog andere grote gemeenten opzoek om de top-7 compleet te maken?\n"
     ]
    }
   ],
   "source": [
    "result = tool_agent.run_sync(\n",
    "    \"Geef een overzicht van de top-7 gemeenten in Nederland met het grootste aantal inwoners in 2024. Laat ook het aantal inwoners van Groningen zien.\"\n",
    ")\n",
    "print(result.output)"
   ]
  },
  {
   "cell_type": "code",
   "execution_count": null,
   "metadata": {},
   "outputs": [],
   "source": [
    "result = tool_agent.run_sync(\n",
    "    \"Als alle inwoners uit Eindhoven in 2025 15 euro betalen, hoeveel krijg ik dan.\"\n",
    ")\n",
    "print(result.output)"
   ]
  },
  {
   "cell_type": "markdown",
   "metadata": {},
   "source": [
    "Voeg geheugen toe aan de agent"
   ]
  },
  {
   "cell_type": "code",
   "execution_count": null,
   "metadata": {},
   "outputs": [],
   "source": [
    "mem_agent = Agent(\n",
    "    model=model,\n",
    "    output_type=str,\n",
    "    system_prompt=(\n",
    "        \"je bent een agent die op alle vragen een verstandig antwoord geeft\"\n",
    "    ),\n",
    ")\n",
    "\n",
    "result = mem_agent.run_sync(\n",
    "    \"wat was ook alweer het btw bedrag van het eerder gekochte product X en hoeveel korting kreeg ik. Zoek dit uit de conversatie hiervoor.\",\n",
    "    message_history=result2.all_messages(),\n",
    ")\n",
    "print(result.output)"
   ]
  },
  {
   "cell_type": "markdown",
   "metadata": {},
   "source": [
    "PyDantic MCP client"
   ]
  },
  {
   "cell_type": "code",
   "execution_count": 8,
   "metadata": {},
   "outputs": [],
   "source": [
    "import asyncio\n",
    "from pydantic_ai import Agent\n",
    "from pydantic_ai.mcp import MCPServerSSE\n",
    "\n",
    "server = MCPServerSSE(url=\"http://localhost:8050/sse\")\n",
    "mcp_agent = Agent(\n",
    "    model=model,\n",
    "    output_type=str,\n",
    "    system_prompt=(\n",
    "        \"je bent een agent die op alle vragen een verstandig antwoord geeft\"\n",
    "    ),\n",
    "    mcp_servers=[server],\n",
    ")"
   ]
  },
  {
   "cell_type": "code",
   "execution_count": null,
   "metadata": {},
   "outputs": [
    {
     "name": "stdout",
     "output_type": "stream",
     "text": [
      "[ToolDefinition(name='calculate_btw', description='\\n    Bereken BTW over een bedrag.\\n\\n    Args:\\n        bedrag: Het bedrag exclusief BTW\\n        btw_percentage: BTW percentage (standaard 21%)\\n\\n    Returns:\\n        Dict met BTW berekening resultaten\\n    ', parameters_json_schema={'properties': {'bedrag': {'title': 'Bedrag', 'type': 'number'}, 'btw_percentage': {'default': 21.0, 'title': 'Btw Percentage', 'type': 'number'}}, 'required': ['bedrag'], 'title': 'calculate_btwArguments', 'type': 'object'}), ToolDefinition(name='calculate_discount', description='\\n    Bereken korting over een bedrag.\\n    ', parameters_json_schema={'properties': {'bedrag': {'title': 'Bedrag', 'type': 'number'}, 'korting_percentage': {'title': 'Korting Percentage', 'type': 'number'}}, 'required': ['bedrag', 'korting_percentage'], 'title': 'calculate_discountArguments', 'type': 'object'}), ToolDefinition(name='get_inwoners_gemeente', description='\\n    Geef het aantal inwoners van een gemeente.\\n    ', parameters_json_schema={'properties': {'gemeente_naam': {'default': None, 'title': 'Gemeente Naam', 'type': 'string'}, 'jaar': {'default': '2025', 'title': 'Jaar', 'type': 'string'}}, 'title': 'get_inwoners_gemeenteArguments', 'type': 'object'})]\n",
      "12:45:01.501 mcp_agent run\n",
      "12:45:01.504   chat claude-3-5-haiku-20241022\n",
      "12:45:04.703   running 1 tool\n",
      "12:45:04.704     running tool: get_inwoners_gemeente\n",
      "12:45:05.698   chat claude-3-5-haiku-20241022\n",
      "12:45:07.639   running 1 tool\n",
      "12:45:07.639     running tool: get_inwoners_gemeente\n",
      "12:45:08.416   chat claude-3-5-haiku-20241022\n",
      "12:45:09.875   running 1 tool\n",
      "12:45:09.875     running tool: get_inwoners_gemeente\n",
      "12:45:11.172   chat claude-3-5-haiku-20241022\n",
      "12:45:13.891   running 1 tool\n",
      "12:45:13.891     running tool: get_inwoners_gemeente\n",
      "12:45:15.448   chat claude-3-5-haiku-20241022\n",
      "12:45:17.784   running 1 tool\n",
      "12:45:17.785     running tool: get_inwoners_gemeente\n",
      "12:45:18.632   chat claude-3-5-haiku-20241022\n",
      "12:45:21.262   running 1 tool\n",
      "12:45:21.262     running tool: get_inwoners_gemeente\n",
      "12:45:22.086   chat claude-3-5-haiku-20241022\n",
      "12:45:24.890   running 1 tool\n",
      "12:45:24.890     running tool: get_inwoners_gemeente\n",
      "12:45:26.675   chat claude-3-5-haiku-20241022\n",
      "12:45:29.049   running 1 tool\n",
      "12:45:29.049     running tool: get_inwoners_gemeente\n",
      "12:45:30.955   chat claude-3-5-haiku-20241022\n",
      "12:45:34.167   running 1 tool\n",
      "12:45:34.168     running tool: get_inwoners_gemeente\n",
      "12:45:36.177   chat claude-3-5-haiku-20241022\n",
      "12:45:38.880   running 1 tool\n",
      "12:45:38.881     running tool: get_inwoners_gemeente\n",
      "12:45:39.672   chat claude-3-5-haiku-20241022\n",
      "12:45:42.459   running 1 tool\n",
      "12:45:42.460     running tool: get_inwoners_gemeente\n",
      "12:45:43.382   chat claude-3-5-haiku-20241022\n",
      "Hier is de definitieve top-10 van gemeenten in Nederland op basis van inwoneraantal in 2024:\n",
      "\n",
      "1. Amsterdam: 931.298 inwoners\n",
      "2. Rotterdam: 670.610 inwoners\n",
      "3. 's-Gravenhage (Den Haag): 566.221 inwoners\n",
      "4. Utrecht: 374.238 inwoners\n",
      "5. Eindhoven: 246.417 inwoners\n",
      "6. Groningen: 243.768 inwoners\n",
      "7. Almere: 226.500 inwoners\n",
      "8. Tilburg: 229.836 inwoners\n",
      "9. Breda: 188.078 inwoners\n",
      "10. Nijmegen: 187.049 inwoners\n",
      "\n",
      "Let op: De inwoneraantallen zijn gebaseerd op de prognose voor het jaar 2024.\n",
      "12:45:47.890 mcp_agent run\n",
      "12:45:47.895   chat claude-3-5-haiku-20241022\n",
      "12:45:50.653   running 1 tool\n",
      "12:45:50.654     running tool: get_inwoners_gemeente\n",
      "12:45:51.545   chat claude-3-5-haiku-20241022\n",
      "12:45:54.339   running 1 tool\n",
      "12:45:54.340     running tool: get_inwoners_gemeente\n"
     ]
    }
   ],
   "source": [
    "async def run_query():\n",
    "    async with mcp_agent.run_mcp_servers():\n",
    "        print(await server.list_tools())\n",
    "        result = await mcp_agent.run(\n",
    "            \"Geef een overzicht van de top-10 gemeenten in Nederland met het grootste aantal inwoners in 2024.\"\n",
    "        )\n",
    "        print(result.output)\n",
    "        result = await mcp_agent.run(\n",
    "            \"Hoeveel inwoners had Rotterdam meer dan Eindhoven in 2024?\"\n",
    "        )\n",
    "        print(result.output)\n",
    "\n",
    "\n",
    "asyncio.run(run_query())"
   ]
  }
 ],
 "metadata": {
  "kernelspec": {
   "display_name": ".venv",
   "language": "python",
   "name": "python3"
  },
  "language_info": {
   "codemirror_mode": {
    "name": "ipython",
    "version": 3
   },
   "file_extension": ".py",
   "mimetype": "text/x-python",
   "name": "python",
   "nbconvert_exporter": "python",
   "pygments_lexer": "ipython3",
   "version": "3.11.12"
  }
 },
 "nbformat": 4,
 "nbformat_minor": 2
}
