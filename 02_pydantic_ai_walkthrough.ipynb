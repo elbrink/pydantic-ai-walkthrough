{
 "cells": [
  {
   "cell_type": "markdown",
   "metadata": {},
   "source": [
    "# Pydantic AI Walkthrough\n",
    "\n",
    "Inspired bij: https://ai.pydantic.dev/agents/\n"
   ]
  },
  {
   "cell_type": "markdown",
   "metadata": {},
   "source": [
    "Setup the environment\n"
   ]
  },
  {
   "cell_type": "code",
   "execution_count": 9,
   "metadata": {},
   "outputs": [],
   "source": [
    "import dotenv\n",
    "import os\n",
    "import logfire\n",
    "\n",
    "import tool_functions as tf\n",
    "\n",
    "import nest_asyncio\n",
    "\n",
    "nest_asyncio.apply()\n",
    "\n",
    "dotenv.load_dotenv()\n",
    "\n",
    "api_key = os.getenv(\"ANTHROPIC_API_KEY\")\n",
    "model = os.getenv(\"DEFAULT_MODEL\")\n",
    "logfire_token = os.getenv(\"LOGFIRE_TOKEN\")\n",
    "\n",
    "# configure logfire\n",
    "logfire.configure(token=logfire_token)\n",
    "logfire.instrument_pydantic_ai()"
   ]
  },
  {
   "cell_type": "markdown",
   "metadata": {},
   "source": [
    "1 Definieer een basis agent\n"
   ]
  },
  {
   "cell_type": "code",
   "execution_count": 10,
   "metadata": {},
   "outputs": [],
   "source": [
    "from pydantic_ai import Agent\n",
    "from pydantic_ai.models.anthropic import AnthropicModel\n",
    "\n",
    "dotenv.load_dotenv()\n",
    "\n",
    "api_key = os.getenv(\"ANTHROPIC_API_KEY\")\n",
    "model = AnthropicModel(os.getenv(\"DEFAULT_MODEL\"))\n",
    "\n",
    "basic_agent = Agent(\n",
    "    model=model,\n",
    "    output_type=str,\n",
    "    system_prompt=(\n",
    "        \"je bent een agent die op alle vragen een verstandig antwoord geeft\"\n",
    "    ),\n",
    ")"
   ]
  },
  {
   "cell_type": "markdown",
   "metadata": {},
   "source": [
    "Stel een vraag aan de agent\n"
   ]
  },
  {
   "cell_type": "code",
   "execution_count": 11,
   "metadata": {},
   "outputs": [
    {
     "name": "stdout",
     "output_type": "stream",
     "text": [
      "11:31:20.795 basic_agent run\n",
      "11:31:20.795   chat claude-3-5-haiku-20241022\n"
     ]
    },
    {
     "data": {
      "text/html": [
       "<pre style=\"white-space:pre;overflow-x:auto;line-height:normal;font-family:Menlo,'DejaVu Sans Mono',consolas,'Courier New',monospace\"><span style=\"font-weight: bold\">Logfire</span> project URL: <a href=\"https://logfire-eu.pydantic.dev/elbrink/claude-test\" target=\"_blank\"><span style=\"color: #008080; text-decoration-color: #008080; text-decoration: underline\">https://logfire-eu.pydantic.dev/elbrink/claude-test</span></a>\n",
       "</pre>\n"
      ],
      "text/plain": [
       "\u001b[1mLogfire\u001b[0m project URL: \u001b]8;id=386335;https://logfire-eu.pydantic.dev/elbrink/claude-test\u001b\\\u001b[4;36mhttps://logfire-eu.pydantic.dev/elbrink/claude-test\u001b[0m\u001b]8;;\u001b\\\n"
      ]
     },
     "metadata": {},
     "output_type": "display_data"
    },
    {
     "name": "stdout",
     "output_type": "stream",
     "text": [
      "Hier is een definitie van een agent in de context van informatica en kunstmatige intelligentie:\n",
      "\n",
      "Een agent is een computerprogramma of systeem dat:\n",
      "\n",
      "1. Autonoom kan waarnemen\n",
      "2. Beslissingen kan nemen\n",
      "3. Acties kan uitvoeren\n",
      "4. Gericht is op het bereiken van specifieke doelen\n",
      "5. Kan leren en zich kan aanpassen aan veranderende omstandigheden\n",
      "\n",
      "Belangrijke kenmerken van een agent zijn:\n",
      "- Autonomie\n",
      "- Reactievermogen\n",
      "- Pro-activiteit\n",
      "- Sociale vaardigheid\n",
      "- Intelligentie\n",
      "\n",
      "Agents kunnen voorkomen in verschillende vormen, zoals:\n",
      "- Softwareagents\n",
      "- Intelligente robots\n",
      "- Virtuele assistenten\n",
      "- Computerspel-AI\n",
      "- Beslissingsondersteunende systemen\n",
      "\n",
      "Het primaire doel van een agent is om effectief te functioneren in een bepaalde omgeving door middel van waarneming, redenering en handelen.\n"
     ]
    }
   ],
   "source": [
    "result = basic_agent.run_sync(\"geef een defintie van een agent\")\n",
    "print(result.output)"
   ]
  },
  {
   "cell_type": "markdown",
   "metadata": {},
   "source": [
    "Definieer tools voor de agent\n"
   ]
  },
  {
   "cell_type": "code",
   "execution_count": 12,
   "metadata": {},
   "outputs": [],
   "source": [
    "tool_agent = Agent(\n",
    "    model=model,\n",
    "    output_type=str,\n",
    "    system_prompt=(\n",
    "        \"je bent een agent die op alle vragen een verstandig antwoord geeft\"\n",
    "    ),\n",
    ")\n",
    "\n",
    "\n",
    "@tool_agent.tool_plain\n",
    "def tool_bereken_btw(bedrag: float, btw_percentage: float):\n",
    "    \"\"\"\n",
    "    Bereken BTW over een bedrag.\n",
    "    \"\"\"\n",
    "    return tf.calculate_btw(bedrag, btw_percentage)\n",
    "\n",
    "\n",
    "@tool_agent.tool_plain\n",
    "def tool_bereken_korting(bedrag: float, korting_percentage: float):\n",
    "    \"\"\"\n",
    "    Bereken korting over een bedrag.\n",
    "    \"\"\"\n",
    "    return tf.calculate_discount(bedrag, korting_percentage)\n",
    "\n",
    "\n",
    "@tool_agent.tool_plain\n",
    "def tool_get_inwoners_gemeente(gemeente_naam: str, jaar: str):\n",
    "    \"\"\"\n",
    "    Haal inwonersaantallen op van Nederlandse gemeenten via CBS API.\n",
    "    \"\"\"\n",
    "    return tf.get_inwoners_gemeente(gemeente_naam, jaar)"
   ]
  },
  {
   "cell_type": "markdown",
   "metadata": {},
   "source": [
    "Test een aantal tool calls\n"
   ]
  },
  {
   "cell_type": "code",
   "execution_count": 13,
   "metadata": {},
   "outputs": [
    {
     "name": "stdout",
     "output_type": "stream",
     "text": [
      "11:31:26.919 tool_agent run\n",
      "11:31:26.920   chat claude-3-5-haiku-20241022\n",
      "11:31:30.689   running 1 tool\n",
      "11:31:30.689     running tool: tool_bereken_btw\n",
      "11:31:30.690   chat claude-3-5-haiku-20241022\n",
      "11:31:34.940   running 1 tool\n",
      "11:31:34.940     running tool: tool_bereken_korting\n",
      "11:31:34.941   chat claude-3-5-haiku-20241022\n",
      "Hier is een gedetailleerd overzicht:\n",
      "\n",
      "1. Oorspronkelijke prijs exclusief BTW: €100,00\n",
      "2. BTW (21%): €21,00\n",
      "3. Prijs inclusief BTW: €121,00\n",
      "4. Korting (15%): €18,15\n",
      "5. Uiteindelijke te betalen prijs: €102,85\n",
      "\n",
      "Samenvattend:\n",
      "- Je begint met een product van €100,00\n",
      "- Er wordt 21% BTW toegevoegd, wat het bedrag brengt op €121,00\n",
      "- Vervolgens krijg je 15% korting, wat €18,15 korting oplevert\n",
      "- Je eindigt met een te betalen bedrag van €102,85\n",
      "\n",
      "De korting is dus rechtstreeks van toepassing op het totale bedrag inclusief BTW, wat resulteert in een aanzienlijke besparing voor jou.\n"
     ]
    }
   ],
   "source": [
    "result2 = tool_agent.run_sync(\n",
    "    \"ik koop een product X voor 100 euro exclusief BTW, bereken de BTW. Ik krijg van de leverancier ook nog 15% korting op het bedrag inclusief BTW. Geef een overzicht wat ik moet betalen en hoe dat is samengesteld\"\n",
    ")\n",
    "print(result2.output)"
   ]
  },
  {
   "cell_type": "code",
   "execution_count": 14,
   "metadata": {},
   "outputs": [
    {
     "name": "stdout",
     "output_type": "stream",
     "text": [
      "11:31:39.874 tool_agent run\n",
      "11:31:39.875   chat claude-3-5-haiku-20241022\n",
      "11:31:47.566   running 7 tools\n",
      "11:31:47.567     running tool: tool_get_inwoners_gemeente\n",
      "11:31:47.567     running tool: tool_get_inwoners_gemeente\n",
      "11:31:47.567     running tool: tool_get_inwoners_gemeente\n",
      "11:31:47.567     running tool: tool_get_inwoners_gemeente\n",
      "11:31:47.568     running tool: tool_get_inwoners_gemeente\n",
      "11:31:47.568     running tool: tool_get_inwoners_gemeente\n",
      "11:31:47.568     running tool: tool_get_inwoners_gemeente\n",
      "11:31:48.714   chat claude-3-5-haiku-20241022\n",
      "Op basis van de resultaten kan ik je het volgende overzicht geven van de top-7 gemeenten in Nederland met het grootste aantal inwoners in 2024:\n",
      "\n",
      "1. Amsterdam: 931.298 inwoners\n",
      "2. Rotterdam: 670.610 inwoners\n",
      "3. Utrecht: 374.238 inwoners\n",
      "4. Eindhoven: 246.417 inwoners\n",
      "5. Groningen: 243.768 inwoners\n",
      "6. Tilburg: 229.836 inwoners\n",
      "\n",
      "Opmerking: Voor Den Haag kon ik helaas geen gegevens ophalen, dus deze gemeente ontbreekt in de lijst. Normaal gesproken zou Den Haag waarschijnlijk na Rotterdam komen qua inwoneraantal.\n",
      "\n",
      "Het specifieke inwonersaantal voor Groningen is 243.768 in 2024.\n"
     ]
    }
   ],
   "source": [
    "result = tool_agent.run_sync(\n",
    "    \"Geef een overzicht van de top-7 gemeenten in Nederland met het grootste aantal inwoners in 2024. Laat ook het aantal inwoners van Groningen zien.\"\n",
    ")\n",
    "print(result.output)"
   ]
  },
  {
   "cell_type": "code",
   "execution_count": 15,
   "metadata": {},
   "outputs": [
    {
     "name": "stdout",
     "output_type": "stream",
     "text": [
      "11:31:54.133 tool_agent run\n",
      "11:31:54.133   chat claude-3-5-haiku-20241022\n",
      "11:31:57.346   running 1 tool\n",
      "11:31:57.347     running tool: tool_get_inwoners_gemeente\n",
      "11:31:58.167   chat claude-3-5-haiku-20241022\n",
      "Op basis van de gegevens van het CBS zal Eindhoven in 2025 naar verwachting 249.054 inwoners hebben. \n",
      "\n",
      "Als elke inwoner 15 euro zou betalen, zou dat neerkomen op:\n",
      "249.054 × €15 = €3.735.810\n",
      "\n",
      "Dus als alle inwoners van Eindhoven in 2025 15 euro zouden betalen, zou het totaalbedrag €3.735.810 zijn. \n",
      "\n",
      "Echter, ik wil wel benadrukken dat het niet gebruikelijk of wenselijk is om zomaar geld van alle inwoners te vorderen zonder een duidelijke reden of tegenprestatie. Als u specifieke plannen of doelen heeft, zou ik graag meer willen weten over de context.\n"
     ]
    }
   ],
   "source": [
    "result = tool_agent.run_sync(\n",
    "    \"Als alle inwoners uit Eindhoven in 2025 15 euro betalen, hoeveel krijg ik dan.\"\n",
    ")\n",
    "print(result.output)"
   ]
  },
  {
   "cell_type": "markdown",
   "metadata": {},
   "source": [
    "Voeg geheugen toe aan de agent\n"
   ]
  },
  {
   "cell_type": "code",
   "execution_count": 16,
   "metadata": {},
   "outputs": [
    {
     "name": "stdout",
     "output_type": "stream",
     "text": [
      "11:32:03.421 mem_agent run\n",
      "11:32:03.422   chat claude-3-5-haiku-20241022\n",
      "Laat me dat even voor je opzoeken in de vorige conversatie:\n",
      "\n",
      "BTW-bedrag: €21,00\n",
      "Korting: €18,15\n",
      "\n",
      "Dit zijn de bedragen die ik in mijn vorige berekening heb vastgesteld voor product X.\n"
     ]
    }
   ],
   "source": [
    "mem_agent = Agent(\n",
    "    model=model,\n",
    "    output_type=str,\n",
    "    system_prompt=(\n",
    "        \"je bent een agent die op alle vragen een verstandig antwoord geeft\"\n",
    "    ),\n",
    ")\n",
    "\n",
    "result = mem_agent.run_sync(\n",
    "    \"wat was ook alweer het btw bedrag van het eerder gekochte product X en hoeveel korting kreeg ik. Zoek dit uit de conversatie hiervoor.\",\n",
    "    message_history=result2.all_messages(),\n",
    ")\n",
    "print(result.output)"
   ]
  },
  {
   "cell_type": "markdown",
   "metadata": {},
   "source": [
    "PyDantic MCP client\n"
   ]
  },
  {
   "cell_type": "code",
   "execution_count": 17,
   "metadata": {},
   "outputs": [],
   "source": [
    "import asyncio\n",
    "from pydantic_ai import Agent\n",
    "from pydantic_ai.mcp import MCPServerSSE\n",
    "\n",
    "server = MCPServerSSE(url=\"http://localhost:8050/sse\")\n",
    "mcp_agent = Agent(\n",
    "    model=model,\n",
    "    output_type=str,\n",
    "    system_prompt=(\n",
    "        \"je bent een agent die op alle vragen een verstandig antwoord geeft\"\n",
    "    ),\n",
    "    mcp_servers=[server],\n",
    ")"
   ]
  },
  {
   "cell_type": "code",
   "execution_count": 18,
   "metadata": {},
   "outputs": [
    {
     "name": "stdout",
     "output_type": "stream",
     "text": [
      "[ToolDefinition(name='calculate_btw', description='\\n    Bereken BTW over een bedrag.\\n\\n    Args:\\n        bedrag: Het bedrag exclusief BTW\\n        btw_percentage: BTW percentage (standaard 21%)\\n\\n    Returns:\\n        Dict met BTW berekening resultaten\\n    ', parameters_json_schema={'properties': {'bedrag': {'title': 'Bedrag', 'type': 'number'}, 'btw_percentage': {'default': 21.0, 'title': 'Btw Percentage', 'type': 'number'}}, 'required': ['bedrag'], 'title': 'calculate_btwArguments', 'type': 'object'}), ToolDefinition(name='calculate_discount', description='\\n    Bereken korting over een bedrag.\\n    ', parameters_json_schema={'properties': {'bedrag': {'title': 'Bedrag', 'type': 'number'}, 'korting_percentage': {'title': 'Korting Percentage', 'type': 'number'}}, 'required': ['bedrag', 'korting_percentage'], 'title': 'calculate_discountArguments', 'type': 'object'}), ToolDefinition(name='get_inwoners_gemeente', description='\\n    Geef het aantal inwoners van een gemeente.\\n    ', parameters_json_schema={'properties': {'gemeente_naam': {'default': None, 'title': 'Gemeente Naam', 'type': 'string'}, 'jaar': {'default': '2025', 'title': 'Jaar', 'type': 'string'}}, 'title': 'get_inwoners_gemeenteArguments', 'type': 'object'})]\n",
      "11:32:06.179 mcp_agent run\n",
      "11:32:06.183   chat claude-3-5-haiku-20241022\n"
     ]
    },
    {
     "name": "stdout",
     "output_type": "stream",
     "text": [
      "11:32:09.127   running 1 tool\n",
      "11:32:09.128     running tool: get_inwoners_gemeente\n",
      "11:32:10.030   chat claude-3-5-haiku-20241022\n",
      "11:32:12.794   running 1 tool\n",
      "11:32:12.795     running tool: get_inwoners_gemeente\n",
      "11:32:13.563   chat claude-3-5-haiku-20241022\n",
      "11:32:16.195   running 1 tool\n",
      "11:32:16.196     running tool: get_inwoners_gemeente\n",
      "11:32:17.074   chat claude-3-5-haiku-20241022\n",
      "11:32:20.413   running 1 tool\n",
      "11:32:20.413     running tool: get_inwoners_gemeente\n",
      "11:32:21.086   chat claude-3-5-haiku-20241022\n",
      "11:32:23.500   running 1 tool\n",
      "11:32:23.500     running tool: get_inwoners_gemeente\n",
      "11:32:24.316   chat claude-3-5-haiku-20241022\n",
      "11:32:27.162   running 1 tool\n",
      "11:32:27.163     running tool: get_inwoners_gemeente\n",
      "11:32:28.149   chat claude-3-5-haiku-20241022\n",
      "11:32:30.496   running 1 tool\n",
      "11:32:30.497     running tool: get_inwoners_gemeente\n",
      "11:32:31.430   chat claude-3-5-haiku-20241022\n",
      "11:32:35.465   running 1 tool\n",
      "11:32:35.466     running tool: get_inwoners_gemeente\n",
      "11:32:36.085   chat claude-3-5-haiku-20241022\n",
      "11:32:38.742   running 1 tool\n",
      "11:32:38.743     running tool: get_inwoners_gemeente\n",
      "11:32:39.447   chat claude-3-5-haiku-20241022\n",
      "11:32:44.245   running 1 tool\n",
      "11:32:44.245     running tool: get_inwoners_gemeente\n",
      "11:32:44.961   chat claude-3-5-haiku-20241022\n",
      "11:32:48.690   running 1 tool\n",
      "11:32:48.690     running tool: get_inwoners_gemeente\n",
      "11:32:49.350   chat claude-3-5-haiku-20241022\n",
      "Hier is het overzicht van de Top 10 gemeenten in Nederland met het grootste aantal inwoners in 2024:\n",
      "\n",
      "1. Amsterdam: 931.298 inwoners\n",
      "2. Rotterdam: 670.610 inwoners\n",
      "3. 's-Gravenhage (Den Haag): 566.221 inwoners\n",
      "4. Utrecht: 374.238 inwoners\n",
      "5. Eindhoven: 246.417 inwoners\n",
      "6. Groningen: 243.768 inwoners\n",
      "7. Tilburg: 229.836 inwoners\n",
      "8. Almere: 226.500 inwoners\n",
      "9. Breda: 188.078 inwoners\n",
      "10. Nijmegen: 187.049 inwoners\n",
      "\n",
      "Opmerking: De inwonersaantallen zijn gebaseerd op de beschikbare gegevens voor het jaar 2024 in de gebruikte functie.\n",
      "11:32:54.376 mcp_agent run\n",
      "11:32:54.382   chat claude-3-5-haiku-20241022\n",
      "11:33:10.128   running 1 tool\n",
      "11:33:10.128     running tool: get_inwoners_gemeente\n",
      "11:33:11.028   chat claude-3-5-haiku-20241022\n",
      "11:33:14.717   running 1 tool\n",
      "11:33:14.717     running tool: get_inwoners_gemeente\n",
      "11:33:15.559   chat claude-3-5-haiku-20241022\n",
      "Laat me de berekening voor je maken:\n",
      "\n",
      "Rotterdam heeft in 2024: 670.610 inwoners\n",
      "Eindhoven heeft in 2024: 246.417 inwoners\n",
      "\n",
      "Het verschil is: 670.610 - 246.417 = 424.193 inwoners\n",
      "\n",
      "Rotterdam had in 2024 dus 424.193 meer inwoners dan Eindhoven.\n"
     ]
    }
   ],
   "source": [
    "async def run_query():\n",
    "    async with mcp_agent.run_mcp_servers():\n",
    "        print(await server.list_tools())\n",
    "        result = await mcp_agent.run(\n",
    "            \"Geef een overzicht van de top-10 gemeenten in Nederland met het grootste aantal inwoners in 2024.\"\n",
    "        )\n",
    "        print(result.output)\n",
    "        result = await mcp_agent.run(\n",
    "            \"Hoeveel inwoners had Rotterdam meer dan Eindhoven in 2024?\"\n",
    "        )\n",
    "        print(result.output)\n",
    "\n",
    "\n",
    "asyncio.run(run_query())"
   ]
  }
 ],
 "metadata": {
  "kernelspec": {
   "display_name": ".venv",
   "language": "python",
   "name": "python3"
  },
  "language_info": {
   "codemirror_mode": {
    "name": "ipython",
    "version": 3
   },
   "file_extension": ".py",
   "mimetype": "text/x-python",
   "name": "python",
   "nbconvert_exporter": "python",
   "pygments_lexer": "ipython3",
   "version": "3.11.12"
  }
 },
 "nbformat": 4,
 "nbformat_minor": 2
}
